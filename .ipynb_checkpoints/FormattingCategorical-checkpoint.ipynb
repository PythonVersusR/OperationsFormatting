{
 "cells": [
  {
   "cell_type": "markdown",
   "id": "9f156965",
   "metadata": {},
   "source": [
    "<img src=\"https://i.imgur.com/6U6q5jQ.png\"/>\n",
    "\n",
    "# Formatting Categorical data in Python\n",
    "\n",
    "\n",
    "In this formatting tutorial we will see the categorical case, let me open a file we created before about [Freedom Indices](https://en.wikipedia.org/wiki/List_of_freedom_indices):"
   ]
  },
  {
   "cell_type": "code",
   "execution_count": null,
   "id": "1923bc8b",
   "metadata": {},
   "outputs": [],
   "source": [
    "import pandas as pd\n",
    "\n",
    "link='https://github.com/PythonVersusR/OperationsCleaning/raw/main/freedom_Py.csv'\n",
    "allFree=pd.read_csv(link)"
   ]
  },
  {
   "cell_type": "markdown",
   "id": "f35512e0",
   "metadata": {},
   "source": [
    "Let's explore:"
   ]
  },
  {
   "cell_type": "code",
   "execution_count": null,
   "id": "e9c7a73d",
   "metadata": {},
   "outputs": [],
   "source": [
    "allFree.info()"
   ]
  },
  {
   "cell_type": "markdown",
   "id": "e720cf7c",
   "metadata": {},
   "source": [
    "Notice that the clean numeric values were recognised as numeric (that may not always be the case, so always verify). When that is the case, statistics can be obtained:"
   ]
  },
  {
   "cell_type": "code",
   "execution_count": null,
   "id": "6f85a9e2",
   "metadata": {},
   "outputs": [],
   "source": [
    "allFree.describe().T"
   ]
  },
  {
   "cell_type": "markdown",
   "id": "6dceca51",
   "metadata": {},
   "source": [
    "But the categories are still recognised as object. Let´s check again the levels:"
   ]
  },
  {
   "cell_type": "code",
   "execution_count": null,
   "id": "876258aa-167d-4b67-8784-25d8d5c02cb2",
   "metadata": {},
   "outputs": [],
   "source": [
    "allFree.iloc[:,1::2]"
   ]
  },
  {
   "cell_type": "markdown",
   "id": "fc8672d6-2a99-4c70-819d-7f6ed7fb03eb",
   "metadata": {},
   "source": [
    "Remembering the levels (it must have been previously cleaned):"
   ]
  },
  {
   "cell_type": "code",
   "execution_count": null,
   "id": "e553e725",
   "metadata": {},
   "outputs": [],
   "source": [
    "[{x:set(pd.unique(allFree[x]))} for x in allFree.iloc[:,1::2].columns]"
   ]
  },
  {
   "cell_type": "markdown",
   "id": "432a81b5",
   "metadata": {},
   "source": [
    "Now, let's turn the values into **ordinal** categories. Remember that the worst, best and middle values should be comparable:"
   ]
  },
  {
   "cell_type": "code",
   "execution_count": null,
   "id": "0ea93452",
   "metadata": {},
   "outputs": [],
   "source": [
    "# assign value so that worst and best is the same across levels\n",
    "\n",
    "mapper1 = {'not free': 1 ,'partly free': 3,'free':5}\n",
    "mapper2 = {'repressed':1, 'mostly unfree':2,'moderately free':3, 'mostly free':4, 'free':5}\n",
    "mapper3 = {'very serious':1, 'difficult':2,'problematic':3,'satisfactory':4,'good':5}\n",
    "mapper4 = {'authoritarian regime':1,'hybrid regime':2,'flawed democracy':4, 'full democracy':5}\n",
    "\n",
    "allFree.FitW.replace(mapper1,inplace=True)\n",
    "allFree.IoEF.replace(mapper2,inplace=True)\n",
    "allFree.PFI.replace(mapper3,inplace=True)\n",
    "allFree.DI.replace(mapper4,inplace=True)\n"
   ]
  },
  {
   "cell_type": "markdown",
   "id": "0c8b71df-ab1f-48d8-be02-dcb089561438",
   "metadata": {},
   "source": [
    "You see:"
   ]
  },
  {
   "cell_type": "code",
   "execution_count": null,
   "id": "742de9d3",
   "metadata": {},
   "outputs": [],
   "source": [
    "allFree"
   ]
  },
  {
   "cell_type": "code",
   "execution_count": null,
   "id": "720b58c4",
   "metadata": {},
   "outputs": [],
   "source": [
    "#check types:\n",
    "allFree.info()"
   ]
  },
  {
   "cell_type": "markdown",
   "id": "89342f19",
   "metadata": {},
   "source": [
    "We have integers instead of categories. Let's create ordinal columns:"
   ]
  },
  {
   "cell_type": "code",
   "execution_count": null,
   "id": "d611aa65-2195-4e75-ba47-44cd9a5ac072",
   "metadata": {},
   "outputs": [],
   "source": [
    "# new column names\n",
    "newNames=allFree.columns[1::2]+'_or'\n",
    "newNames"
   ]
  },
  {
   "cell_type": "code",
   "execution_count": null,
   "id": "7db40854-c0cf-4a6d-8bba-5c34f8aaa314",
   "metadata": {},
   "outputs": [],
   "source": [
    "# copy the previous values\n",
    "allFree[newNames]=allFree.iloc[:,1::2]\n",
    "allFree"
   ]
  },
  {
   "cell_type": "code",
   "execution_count": null,
   "id": "f8ddc1dd-1f5c-4a0d-8e87-cc419157916f",
   "metadata": {},
   "outputs": [],
   "source": [
    "# turn intergers into ordinal level\n",
    "\n",
    "# create the data type info\n",
    "from pandas.api.types import CategoricalDtype\n",
    "myOrdinal = CategoricalDtype(categories=[1,2,3,4,5], ordered=True)\n",
    "\n",
    "#one column\n",
    "allFree.loc[:,\"FitW_or\"].astype(myOrdinal)"
   ]
  },
  {
   "cell_type": "code",
   "execution_count": null,
   "id": "89441814-186a-4133-8b36-dcc4b9af3720",
   "metadata": {},
   "outputs": [],
   "source": [
    "# several columns\n",
    "allFree.loc[:,\"FitW_or\":]=allFree.loc[:,\"FitW_or\":].astype(myOrdinal)\n",
    "allFree.info()"
   ]
  },
  {
   "cell_type": "code",
   "execution_count": null,
   "id": "83a4a1e8-a631-4a29-ae63-700b41f1beff",
   "metadata": {},
   "outputs": [],
   "source": [
    "## see\n",
    "\n",
    "allFree"
   ]
  },
  {
   "cell_type": "code",
   "execution_count": null,
   "id": "23dd45e5-5f06-4366-9860-505c9c86a5f6",
   "metadata": {},
   "outputs": [],
   "source": [
    "# rename the levels\n",
    "\n",
    "ordinalLevels={1:'1_veryLow',2:'2_low',3:'3_medium',4:'4_good',5:'5_veryGood'}\n",
    "\n",
    "renameLevels= lambda x:x.cat.rename_categories(ordinalLevels)\n",
    "\n",
    "allFree.loc[:,\"FitW_or\":].apply(renameLevels)"
   ]
  },
  {
   "cell_type": "code",
   "execution_count": null,
   "id": "f916d049",
   "metadata": {},
   "outputs": [],
   "source": [
    "allFree.loc[:,\"FitW_or\":]=allFree.loc[:,\"FitW_or\":].apply(renameLevels)\n",
    "allFree.info()"
   ]
  },
  {
   "cell_type": "code",
   "execution_count": null,
   "id": "34dc3a1f",
   "metadata": {},
   "outputs": [],
   "source": [
    "allFree"
   ]
  },
  {
   "cell_type": "markdown",
   "id": "a42df45e",
   "metadata": {},
   "source": [
    "Let's keep this last result, and let me show you the use of **pickle** format:"
   ]
  },
  {
   "cell_type": "code",
   "execution_count": null,
   "id": "161406d7",
   "metadata": {},
   "outputs": [],
   "source": [
    "#saving\n",
    "\n",
    "import os \n",
    "\n",
    "allFree.to_csv(os.path.join(\"DataFiles\",\"allFree_Py.csv\"),index=False )\n",
    "allFree.to_pickle(os.path.join(\"DataFiles\",\"allFree.pkl\") )"
   ]
  },
  {
   "cell_type": "code",
   "execution_count": null,
   "id": "43d07085",
   "metadata": {},
   "outputs": [],
   "source": [
    "#reading\n",
    "\n",
    "dfPickle=pd.read_pickle(os.path.join(\"DataFiles\",\"allFree.pkl\") )  \n",
    "dfCSV=pd.read_csv(os.path.join(\"DataFiles\",\"allFree_Py.csv\") )  "
   ]
  },
  {
   "cell_type": "markdown",
   "id": "cce1b3a2",
   "metadata": {},
   "source": [
    "Now, notice the difference when you have categorical data:"
   ]
  },
  {
   "cell_type": "code",
   "execution_count": null,
   "id": "6cefa4b8",
   "metadata": {},
   "outputs": [],
   "source": [
    "dfPickle.info()"
   ]
  },
  {
   "cell_type": "code",
   "execution_count": null,
   "id": "1d27a302",
   "metadata": {},
   "outputs": [],
   "source": [
    "dfCSV.info()"
   ]
  },
  {
   "cell_type": "code",
   "execution_count": null,
   "id": "3def84ae",
   "metadata": {},
   "outputs": [],
   "source": [
    "# the file kept the data type\n",
    "dfPickle.DI_or"
   ]
  },
  {
   "cell_type": "code",
   "execution_count": null,
   "id": "182bd92b",
   "metadata": {},
   "outputs": [],
   "source": [
    "# the file did not keep the data type\n",
    "dfCSV.DI_or"
   ]
  },
  {
   "cell_type": "code",
   "execution_count": null,
   "id": "6b17842d",
   "metadata": {},
   "outputs": [],
   "source": []
  }
 ],
 "metadata": {
  "kernelspec": {
   "display_name": "Python 3 (ipykernel)",
   "language": "python",
   "name": "python3"
  },
  "language_info": {
   "codemirror_mode": {
    "name": "ipython",
    "version": 3
   },
   "file_extension": ".py",
   "mimetype": "text/x-python",
   "name": "python",
   "nbconvert_exporter": "python",
   "pygments_lexer": "ipython3",
   "version": "3.12.0"
  }
 },
 "nbformat": 4,
 "nbformat_minor": 5
}
