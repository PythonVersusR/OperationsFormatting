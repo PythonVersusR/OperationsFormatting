{
 "cells": [
  {
   "cell_type": "markdown",
   "id": "402943b1",
   "metadata": {},
   "source": [
    "<img src=\"https://i.imgur.com/6U6q5jQ.png\"/>\n",
    "\n",
    "# Formatting Dates in Python\n",
    "\n",
    "It is very common to find dates (some combination of year, month, day of week and time) in data that is collected in real time (and other that organize event information.\n",
    "\n",
    "Let's see a data frame that comes with dates from an API."
   ]
  },
  {
   "cell_type": "code",
   "execution_count": null,
   "id": "ae42d0d9-5da4-4bca-93b0-ba85f88e6d90",
   "metadata": {},
   "outputs": [],
   "source": [
    "#!pip install sodapy"
   ]
  },
  {
   "cell_type": "code",
   "execution_count": null,
   "id": "75f3c948",
   "metadata": {},
   "outputs": [],
   "source": [
    "import pandas as pd\n",
    "from sodapy import Socrata\n",
    "\n",
    "client = Socrata(\"data.seattle.gov\", None)\n",
    "\n",
    "results = client.get(\"kzjm-xkqj\", limit=2000)\n",
    "\n",
    "# Convert to pandas DataFrame\n",
    "calls911 = pd.DataFrame.from_records(results)"
   ]
  },
  {
   "cell_type": "markdown",
   "id": "33d1b686",
   "metadata": {},
   "source": [
    "Let's check the data types:"
   ]
  },
  {
   "cell_type": "code",
   "execution_count": null,
   "id": "8b6e8130",
   "metadata": {},
   "outputs": [],
   "source": [
    "calls911.info()"
   ]
  },
  {
   "cell_type": "markdown",
   "id": "411ee94b",
   "metadata": {},
   "source": [
    "Let's get rid of some columns:"
   ]
  },
  {
   "cell_type": "code",
   "execution_count": null,
   "id": "ff87b95f",
   "metadata": {},
   "outputs": [],
   "source": [
    "calls911=calls911.iloc[:,:7]"
   ]
  },
  {
   "cell_type": "markdown",
   "id": "ea1b71f9",
   "metadata": {},
   "source": [
    "Let's check the column _datetime_:"
   ]
  },
  {
   "cell_type": "code",
   "execution_count": null,
   "id": "c61dade2",
   "metadata": {},
   "outputs": [],
   "source": [
    "calls911.datetime.head()"
   ]
  },
  {
   "cell_type": "code",
   "execution_count": null,
   "id": "0685a26d",
   "metadata": {},
   "outputs": [],
   "source": [
    "# verify data type\n",
    "type(calls911.datetime[0])\n"
   ]
  },
  {
   "cell_type": "markdown",
   "id": "bf7e8e20",
   "metadata": {},
   "source": [
    "The date and time information is not useful at this time, that is, the information it offers is of limited use, as it is just a string. \n",
    "\n",
    "Let's make it useful:"
   ]
  },
  {
   "cell_type": "code",
   "execution_count": null,
   "id": "3e232c75",
   "metadata": {
    "scrolled": true
   },
   "outputs": [],
   "source": [
    "calls911.datetime=pd.to_datetime(calls911.datetime)\n",
    "calls911.info()"
   ]
  },
  {
   "cell_type": "code",
   "execution_count": null,
   "id": "468ad5cf-800f-43f7-a663-2d795461f25f",
   "metadata": {},
   "outputs": [],
   "source": [
    "calls911"
   ]
  },
  {
   "cell_type": "markdown",
   "id": "b90004bf",
   "metadata": {},
   "source": [
    "Once you have this data type, you can retrieve important information:"
   ]
  },
  {
   "cell_type": "code",
   "execution_count": null,
   "id": "0d7637b8",
   "metadata": {},
   "outputs": [],
   "source": [
    "calls911['date']=calls911.datetime.dt.date\n",
    "calls911['year']=calls911.datetime.dt.year\n",
    "calls911['month']=calls911.datetime.dt.month_name()\n",
    "calls911['weekday']=calls911.datetime.dt.day_name()\n",
    "calls911['hour']=calls911.datetime.dt.hour"
   ]
  },
  {
   "cell_type": "code",
   "execution_count": null,
   "id": "6c1581d8",
   "metadata": {},
   "outputs": [],
   "source": [
    "calls911.head()"
   ]
  },
  {
   "cell_type": "markdown",
   "id": "5aee7d81",
   "metadata": {},
   "source": [
    "Let's create a new column with what we have. In this case, a boolean where you tell if it is night time (after 8 pm before 6 am):"
   ]
  },
  {
   "cell_type": "code",
   "execution_count": null,
   "id": "335b1a0f",
   "metadata": {},
   "outputs": [],
   "source": [
    "calls911['nightTime']=((calls911['hour']<=6) | (calls911['hour']>=20))"
   ]
  },
  {
   "cell_type": "markdown",
   "id": "b60afa87",
   "metadata": {},
   "source": [
    "Let's save what we have:"
   ]
  },
  {
   "cell_type": "code",
   "execution_count": null,
   "id": "cd1e7920",
   "metadata": {},
   "outputs": [],
   "source": [
    "calls911"
   ]
  },
  {
   "cell_type": "markdown",
   "id": "158807ba-b84a-4082-bace-3c765f5f67c2",
   "metadata": {},
   "source": [
    "What about data that comes in Spanish?"
   ]
  },
  {
   "cell_type": "code",
   "execution_count": null,
   "id": "a987c15a-af5e-48d2-b2bc-a45e744d7488",
   "metadata": {},
   "outputs": [],
   "source": [
    "#!pip install bs4"
   ]
  },
  {
   "cell_type": "code",
   "execution_count": null,
   "id": "954e790c",
   "metadata": {},
   "outputs": [],
   "source": [
    "link=\"https://es.wikipedia.org/wiki/Pandemia_de_COVID-19\"\n",
    "\n",
    "import pandas as pd\n",
    "\n",
    "covid=pd.read_html(link, flavor=\"bs4\", attrs={\"class\":\"wikitable sortable\"})"
   ]
  },
  {
   "cell_type": "markdown",
   "id": "1950f751-637d-45e7-8b27-bc7e3f4fb6df",
   "metadata": {},
   "source": [
    "Let me keep the second df:"
   ]
  },
  {
   "cell_type": "code",
   "execution_count": null,
   "id": "b3c281bc",
   "metadata": {},
   "outputs": [],
   "source": [
    "covidDF=covid[1].copy()\n",
    "covidDF"
   ]
  },
  {
   "cell_type": "markdown",
   "id": "3eb030e9-6e3c-4712-9eaa-9cbeadf6d93c",
   "metadata": {},
   "source": [
    "Notices the presence of some non-English punctuation:"
   ]
  },
  {
   "cell_type": "code",
   "execution_count": null,
   "id": "9b5a1bbf-d4dd-44c8-879a-39d5cc1db5f4",
   "metadata": {},
   "outputs": [],
   "source": [
    "covidDF.columns"
   ]
  },
  {
   "cell_type": "markdown",
   "id": "9e42ef49-580b-4fb3-a959-705ae2db3bca",
   "metadata": {},
   "source": [
    "Let's get rid of those:"
   ]
  },
  {
   "cell_type": "code",
   "execution_count": null,
   "id": "e643675b-dca0-4cc6-9095-6156117db2e2",
   "metadata": {},
   "outputs": [],
   "source": [
    "#!pip install unidecode"
   ]
  },
  {
   "cell_type": "code",
   "execution_count": null,
   "id": "c459da6a-4a33-41ad-962e-dd02f41ee852",
   "metadata": {},
   "outputs": [],
   "source": [
    "import unidecode as ud\n",
    "\n",
    "[ud.unidecode(c) for c in covidDF.columns]"
   ]
  },
  {
   "cell_type": "code",
   "execution_count": null,
   "id": "4d2bae85-aa46-4c00-8c68-3108db95ea82",
   "metadata": {},
   "outputs": [],
   "source": [
    "#or\n",
    "import re\n",
    "\n",
    "[re.sub('\\\\s','',ud.unidecode(c)) for c in covidDF.columns]"
   ]
  },
  {
   "cell_type": "code",
   "execution_count": null,
   "id": "91f42870-37c0-400a-9de2-a07be6c53712",
   "metadata": {},
   "outputs": [],
   "source": [
    "#then\n",
    "covidDF.columns=[re.sub('\\\\s','',ud.unidecode(c)) for c in covidDF.columns]"
   ]
  },
  {
   "cell_type": "markdown",
   "id": "ec3aed25-db0e-4247-ae40-9213278ee9bc",
   "metadata": {},
   "source": [
    "Let's  focus on the _Fechadelanalisis_:"
   ]
  },
  {
   "cell_type": "code",
   "execution_count": null,
   "id": "c16e76c3-bdc4-4780-98dc-10c28b406435",
   "metadata": {},
   "outputs": [],
   "source": [
    "# use \" a \" to split:\n",
    "covidDF.Fechadelanalisis.str.split(\" a \",expand=True)"
   ]
  },
  {
   "cell_type": "code",
   "execution_count": null,
   "id": "04f3da3f-dfcb-44a4-8655-daa365101b79",
   "metadata": {},
   "outputs": [],
   "source": [
    "# create the two columns\n",
    "\n",
    "covidDF[[\"fecha1\",\"fecha2\"]]=covidDF.Fechadelanalisis.str.split(\" a \",expand=True)\n",
    "covidDF"
   ]
  },
  {
   "cell_type": "markdown",
   "id": "ac7446fe-8dc7-4105-bb31-570155e7b6f6",
   "metadata": {},
   "source": [
    "Let's format on of those columns:"
   ]
  },
  {
   "cell_type": "code",
   "execution_count": null,
   "id": "acce4a67-d4fd-450f-a418-1e96e2608621",
   "metadata": {},
   "outputs": [],
   "source": [
    "covidDF.fecha1"
   ]
  },
  {
   "cell_type": "code",
   "execution_count": null,
   "id": "710e2539-a336-4f94-888c-7d8529725cc2",
   "metadata": {},
   "outputs": [],
   "source": [
    "covidDF.loc[8,'fecha1']='1 de noviembre de 2020'"
   ]
  },
  {
   "cell_type": "code",
   "execution_count": null,
   "id": "31fdebd6-8737-4926-b344-557a8e04ce1a",
   "metadata": {},
   "outputs": [],
   "source": [
    "# let's split again:\n",
    "\n",
    "covidDF.fecha1.str.split(\" de \",expand=True)"
   ]
  },
  {
   "cell_type": "markdown",
   "id": "393bb3ae-5e06-45e4-82ff-3b097150c308",
   "metadata": {},
   "source": [
    "I could create three new columns:"
   ]
  },
  {
   "cell_type": "code",
   "execution_count": null,
   "id": "d2d969df-ca4d-4fcc-937f-b5e3ab4a0731",
   "metadata": {},
   "outputs": [],
   "source": [
    "covidDF[['fecha1_dia','fecha1_mes','fecha1_anho']]=covidDF.fecha1.str.split(\" de \",expand=True)\n",
    "covidDF[['fecha1_dia','fecha1_mes','fecha1_anho']]"
   ]
  },
  {
   "cell_type": "markdown",
   "id": "2f85364e-f53e-4dc1-8599-44fde5242359",
   "metadata": {},
   "source": [
    "We should use the month number instead of name. Let's prepare a dict of changes:"
   ]
  },
  {
   "cell_type": "code",
   "execution_count": null,
   "id": "47affb09-1595-4e7d-be75-ad68463a8b48",
   "metadata": {},
   "outputs": [],
   "source": [
    "monthName=('enero','febrero','marzo','abril','mayo','junio','julio','agosto','septiembre','octubre','noviembre','diciembre')\n",
    "changes={name:number for name,number in zip(monthName,range(1,len(monthName)+1))}\n",
    "changes"
   ]
  },
  {
   "cell_type": "code",
   "execution_count": null,
   "id": "17dcd7cb-606f-40ee-a10c-9e627f1c3bc2",
   "metadata": {},
   "outputs": [],
   "source": [
    "covidDF.fecha1_mes.replace(changes,inplace=True)"
   ]
  },
  {
   "cell_type": "markdown",
   "id": "612db1ef-842b-4ac9-be45-647d1988bf84",
   "metadata": {},
   "source": [
    "Now we have:"
   ]
  },
  {
   "cell_type": "code",
   "execution_count": null,
   "id": "cdc27733-0c1b-4700-b66d-9e9c32d03c47",
   "metadata": {},
   "outputs": [],
   "source": [
    "covidDF[['fecha1_dia','fecha1_mes','fecha1_anho']]"
   ]
  },
  {
   "cell_type": "markdown",
   "id": "67a09563-fabe-4700-bcd5-f8a5135490c8",
   "metadata": {},
   "source": [
    "We will use those columns to create a date:"
   ]
  },
  {
   "cell_type": "code",
   "execution_count": null,
   "id": "2a24cbca-25ba-439b-884a-93f168929752",
   "metadata": {},
   "outputs": [],
   "source": [
    "pd.to_datetime(dict(year=covidDF.fecha1_anho, month=covidDF.fecha1_mes, day=covidDF.fecha1_dia))"
   ]
  },
  {
   "cell_type": "code",
   "execution_count": null,
   "id": "ba62538d-d42e-4029-b46b-d7e696fb58cf",
   "metadata": {},
   "outputs": [],
   "source": []
  }
 ],
 "metadata": {
  "kernelspec": {
   "display_name": "Python 3 (ipykernel)",
   "language": "python",
   "name": "python3"
  },
  "language_info": {
   "codemirror_mode": {
    "name": "ipython",
    "version": 3
   },
   "file_extension": ".py",
   "mimetype": "text/x-python",
   "name": "python",
   "nbconvert_exporter": "python",
   "pygments_lexer": "ipython3",
   "version": "3.12.0"
  }
 },
 "nbformat": 4,
 "nbformat_minor": 5
}
